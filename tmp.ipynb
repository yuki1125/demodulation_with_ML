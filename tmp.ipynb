{
 "cells": [
  {
   "cell_type": "code",
   "execution_count": 155,
   "metadata": {
    "collapsed": false
   },
   "outputs": [],
   "source": [
    "from MakeDataset import MakeDataset\n",
    "from sklearn import tree\n",
    "from dtreeviz.trees import *\n",
    "import graphviz\n",
    "import pydotplus\n",
    "from sklearn.externals.six import StringIO"
   ]
  },
  {
   "cell_type": "code",
   "execution_count": 139,
   "metadata": {
    "collapsed": true
   },
   "outputs": [],
   "source": [
    "def DataFrameTrain(loopTimes=None, numLEDs=None, xTarget=None, yTarget=None, noiseLevel=None):\n",
    "\n",
    "    \n",
    "    df_train = MakeDataset(noiseLevel=noiseLevel, loopLearn=loopTimes, num_leds=numLEDs)\n",
    "    data_train = df_train.GetDataset(xTarget=0, yTarget=0)\n",
    "    row = int(numLEDs * 2)\n",
    "    data_train_target = data_train.pop(row)\n",
    "    \n",
    "    #df_train_target = data_train[-1]\n",
    "    return data_train, data_train_target\n",
    "\n",
    "def DataFrameTest(loopTimes=None, numLEDs=None, xTarget=None, yTarget=None, noiseLevel=None):\n",
    "    \n",
    "    \n",
    "    df_test = MakeDataset(noiseLevel=noiseLevel, loopLearn=loopTimes, num_leds=numLEDs)\n",
    "    data_test = df_test.GetDataset(xTarget=0, yTarget=0)\n",
    "    row = int(numLEDs * 2)\n",
    "    data_test_target = data_test.pop(row)\n",
    "    \n",
    "    \n",
    "    return data_test, data_test_target"
   ]
  },
  {
   "cell_type": "code",
   "execution_count": 147,
   "metadata": {
    "collapsed": false
   },
   "outputs": [],
   "source": [
    "df_train, df_train_target = DataFrameTrain(10000, 16, 2, 2, 0.1)\n",
    "df_test, df_test_target = DataFrameTest(1000, 16, 2, 2, 0.1)"
   ]
  },
  {
   "cell_type": "code",
   "execution_count": 153,
   "metadata": {
    "collapsed": false,
    "scrolled": false
   },
   "outputs": [
    {
     "data": {
      "text/html": [
       "<div>\n",
       "<table border=\"1\" class=\"dataframe\">\n",
       "  <thead>\n",
       "    <tr style=\"text-align: right;\">\n",
       "      <th></th>\n",
       "      <th>0</th>\n",
       "      <th>1</th>\n",
       "      <th>2</th>\n",
       "      <th>3</th>\n",
       "      <th>4</th>\n",
       "      <th>5</th>\n",
       "      <th>6</th>\n",
       "      <th>7</th>\n",
       "      <th>8</th>\n",
       "      <th>9</th>\n",
       "      <th>...</th>\n",
       "      <th>22</th>\n",
       "      <th>23</th>\n",
       "      <th>24</th>\n",
       "      <th>25</th>\n",
       "      <th>26</th>\n",
       "      <th>27</th>\n",
       "      <th>28</th>\n",
       "      <th>29</th>\n",
       "      <th>30</th>\n",
       "      <th>31</th>\n",
       "    </tr>\n",
       "  </thead>\n",
       "  <tbody>\n",
       "    <tr>\n",
       "      <th>0</th>\n",
       "      <td>-0.094778</td>\n",
       "      <td>0.065938</td>\n",
       "      <td>1.873827</td>\n",
       "      <td>0.140606</td>\n",
       "      <td>1.766707</td>\n",
       "      <td>1.834890</td>\n",
       "      <td>1.790069</td>\n",
       "      <td>1.867264</td>\n",
       "      <td>-0.046440</td>\n",
       "      <td>1.769861</td>\n",
       "      <td>...</td>\n",
       "      <td>2.236068</td>\n",
       "      <td>3.162278</td>\n",
       "      <td>2.0</td>\n",
       "      <td>2.236068</td>\n",
       "      <td>2.828427</td>\n",
       "      <td>3.605551</td>\n",
       "      <td>3.0</td>\n",
       "      <td>3.162278</td>\n",
       "      <td>3.605551</td>\n",
       "      <td>4.242641</td>\n",
       "    </tr>\n",
       "    <tr>\n",
       "      <th>1</th>\n",
       "      <td>1.655060</td>\n",
       "      <td>0.116104</td>\n",
       "      <td>1.696025</td>\n",
       "      <td>0.061662</td>\n",
       "      <td>1.824773</td>\n",
       "      <td>1.726119</td>\n",
       "      <td>1.935396</td>\n",
       "      <td>-0.064292</td>\n",
       "      <td>-0.012535</td>\n",
       "      <td>1.865294</td>\n",
       "      <td>...</td>\n",
       "      <td>2.236068</td>\n",
       "      <td>3.162278</td>\n",
       "      <td>2.0</td>\n",
       "      <td>2.236068</td>\n",
       "      <td>2.828427</td>\n",
       "      <td>3.605551</td>\n",
       "      <td>3.0</td>\n",
       "      <td>3.162278</td>\n",
       "      <td>3.605551</td>\n",
       "      <td>4.242641</td>\n",
       "    </tr>\n",
       "    <tr>\n",
       "      <th>2</th>\n",
       "      <td>1.785340</td>\n",
       "      <td>1.684425</td>\n",
       "      <td>-0.063666</td>\n",
       "      <td>1.685956</td>\n",
       "      <td>1.711988</td>\n",
       "      <td>1.711864</td>\n",
       "      <td>-0.048695</td>\n",
       "      <td>0.013842</td>\n",
       "      <td>-0.000747</td>\n",
       "      <td>-0.139667</td>\n",
       "      <td>...</td>\n",
       "      <td>2.236068</td>\n",
       "      <td>3.162278</td>\n",
       "      <td>2.0</td>\n",
       "      <td>2.236068</td>\n",
       "      <td>2.828427</td>\n",
       "      <td>3.605551</td>\n",
       "      <td>3.0</td>\n",
       "      <td>3.162278</td>\n",
       "      <td>3.605551</td>\n",
       "      <td>4.242641</td>\n",
       "    </tr>\n",
       "    <tr>\n",
       "      <th>3</th>\n",
       "      <td>1.634006</td>\n",
       "      <td>0.033103</td>\n",
       "      <td>1.865616</td>\n",
       "      <td>1.723378</td>\n",
       "      <td>1.930032</td>\n",
       "      <td>0.069039</td>\n",
       "      <td>1.741711</td>\n",
       "      <td>-0.041856</td>\n",
       "      <td>1.995453</td>\n",
       "      <td>-0.072501</td>\n",
       "      <td>...</td>\n",
       "      <td>2.236068</td>\n",
       "      <td>3.162278</td>\n",
       "      <td>2.0</td>\n",
       "      <td>2.236068</td>\n",
       "      <td>2.828427</td>\n",
       "      <td>3.605551</td>\n",
       "      <td>3.0</td>\n",
       "      <td>3.162278</td>\n",
       "      <td>3.605551</td>\n",
       "      <td>4.242641</td>\n",
       "    </tr>\n",
       "    <tr>\n",
       "      <th>4</th>\n",
       "      <td>0.049595</td>\n",
       "      <td>1.840519</td>\n",
       "      <td>1.750455</td>\n",
       "      <td>0.159435</td>\n",
       "      <td>1.811967</td>\n",
       "      <td>1.852131</td>\n",
       "      <td>1.842701</td>\n",
       "      <td>1.803087</td>\n",
       "      <td>-0.014948</td>\n",
       "      <td>0.012354</td>\n",
       "      <td>...</td>\n",
       "      <td>2.236068</td>\n",
       "      <td>3.162278</td>\n",
       "      <td>2.0</td>\n",
       "      <td>2.236068</td>\n",
       "      <td>2.828427</td>\n",
       "      <td>3.605551</td>\n",
       "      <td>3.0</td>\n",
       "      <td>3.162278</td>\n",
       "      <td>3.605551</td>\n",
       "      <td>4.242641</td>\n",
       "    </tr>\n",
       "  </tbody>\n",
       "</table>\n",
       "<p>5 rows × 32 columns</p>\n",
       "</div>"
      ],
      "text/plain": [
       "         0         1         2         3         4         5         6   \\\n",
       "0 -0.094778  0.065938  1.873827  0.140606  1.766707  1.834890  1.790069   \n",
       "1  1.655060  0.116104  1.696025  0.061662  1.824773  1.726119  1.935396   \n",
       "2  1.785340  1.684425 -0.063666  1.685956  1.711988  1.711864 -0.048695   \n",
       "3  1.634006  0.033103  1.865616  1.723378  1.930032  0.069039  1.741711   \n",
       "4  0.049595  1.840519  1.750455  0.159435  1.811967  1.852131  1.842701   \n",
       "\n",
       "         7         8         9     ...           22        23   24        25  \\\n",
       "0  1.867264 -0.046440  1.769861    ...     2.236068  3.162278  2.0  2.236068   \n",
       "1 -0.064292 -0.012535  1.865294    ...     2.236068  3.162278  2.0  2.236068   \n",
       "2  0.013842 -0.000747 -0.139667    ...     2.236068  3.162278  2.0  2.236068   \n",
       "3 -0.041856  1.995453 -0.072501    ...     2.236068  3.162278  2.0  2.236068   \n",
       "4  1.803087 -0.014948  0.012354    ...     2.236068  3.162278  2.0  2.236068   \n",
       "\n",
       "         26        27   28        29        30        31  \n",
       "0  2.828427  3.605551  3.0  3.162278  3.605551  4.242641  \n",
       "1  2.828427  3.605551  3.0  3.162278  3.605551  4.242641  \n",
       "2  2.828427  3.605551  3.0  3.162278  3.605551  4.242641  \n",
       "3  2.828427  3.605551  3.0  3.162278  3.605551  4.242641  \n",
       "4  2.828427  3.605551  3.0  3.162278  3.605551  4.242641  \n",
       "\n",
       "[5 rows x 32 columns]"
      ]
     },
     "execution_count": 153,
     "metadata": {},
     "output_type": "execute_result"
    }
   ],
   "source": [
    "df_train.head()"
   ]
  },
  {
   "cell_type": "code",
   "execution_count": 149,
   "metadata": {
    "collapsed": false
   },
   "outputs": [
    {
     "data": {
      "text/plain": [
       "(10000,)"
      ]
     },
     "execution_count": 149,
     "metadata": {},
     "output_type": "execute_result"
    }
   ],
   "source": [
    "df_train_target.shape"
   ]
  },
  {
   "cell_type": "code",
   "execution_count": 150,
   "metadata": {
    "collapsed": false
   },
   "outputs": [],
   "source": [
    "clf = tree.DecisionTreeClassifier(max_depth=4)\n",
    "clf = clf.fit(df_train, df_train_target)"
   ]
  },
  {
   "cell_type": "code",
   "execution_count": 151,
   "metadata": {
    "collapsed": false
   },
   "outputs": [],
   "source": [
    "predicted = clf.predict(df_test)"
   ]
  },
  {
   "cell_type": "code",
   "execution_count": 152,
   "metadata": {
    "collapsed": false
   },
   "outputs": [
    {
     "name": "stdout",
     "output_type": "stream",
     "text": [
      "=============== predicted ===============\n",
      "[ 0.  1.  1.  1.  0.  0.  1.  0.  1.  0.  1.  1.  1.  1.  0.  0.  1.  1.\n",
      "  1.  1.  1.  0.  1.  1.  1.  1.  1.  1.  1.  1.  0.  0.  1.  1.  1.  1.\n",
      "  1.  0.  1.  0.  0.  0.  0.  1.  0.  0.  1.  1.  1.  1.  0.  1.  0.  1.\n",
      "  0.  0.  0.  0.  0.  0.  1.  1.  0.  1.  0.  0.  1.  0.  0.  1.  1.  0.\n",
      "  0.  0.  0.  1.  1.  0.  0.  1.  1.  1.  1.  1.  0.  1.  1.  0.  1.  1.\n",
      "  0.  1.  0.  1.  1.  1.  1.  0.  1.  0.  0.  1.  0.  1.  1.  0.  1.  0.\n",
      "  1.  1.  1.  1.  0.  0.  1.  0.  1.  1.  1.  1.  0.  0.  1.  0.  1.  0.\n",
      "  1.  1.  1.  0.  0.  0.  1.  1.  1.  0.  0.  0.  0.  1.  0.  0.  1.  1.\n",
      "  0.  0.  0.  1.  1.  1.  0.  1.  1.  1.  1.  0.  1.  0.  0.  1.  1.  0.\n",
      "  0.  1.  1.  0.  0.  1.  0.  0.  1.  0.  1.  1.  1.  0.  0.  0.  1.  1.\n",
      "  0.  0.  1.  1.  1.  1.  0.  0.  1.  0.  1.  1.  1.  1.  1.  1.  0.  1.\n",
      "  0.  0.  0.  1.  0.  0.  1.  0.  0.  1.  1.  1.  1.  1.  1.  1.  1.  0.\n",
      "  0.  0.  0.  1.  0.  0.  1.  0.  0.  1.  1.  1.  0.  1.  1.  0.  1.  1.\n",
      "  0.  0.  0.  0.  1.  0.  1.  1.  0.  1.  0.  0.  0.  1.  1.  0.  1.  0.\n",
      "  0.  0.  0.  1.  0.  1.  1.  0.  0.  0.  1.  0.  1.  1.  0.  1.  1.  0.\n",
      "  1.  0.  0.  0.  1.  0.  0.  0.  0.  0.  0.  1.  1.  0.  0.  1.  0.  0.\n",
      "  1.  1.  1.  0.  0.  0.  0.  0.  1.  1.  1.  1.  0.  1.  1.  0.  0.  0.\n",
      "  0.  0.  1.  0.  0.  1.  1.  0.  1.  0.  1.  0.  0.  0.  0.  0.  1.  1.\n",
      "  0.  1.  0.  1.  1.  0.  0.  1.  1.  0.  1.  1.  1.  0.  1.  1.  1.  0.\n",
      "  1.  1.  0.  1.  1.  1.  1.  1.  0.  1.  1.  1.  1.  0.  0.  1.  0.  1.\n",
      "  0.  0.  1.  0.  1.  0.  0.  1.  0.  0.  0.  0.  1.  0.  0.  0.  0.  0.\n",
      "  0.  1.  0.  0.  1.  1.  0.  0.  0.  0.  0.  0.  1.  1.  0.  0.  1.  0.\n",
      "  1.  0.  0.  1.  1.  1.  0.  0.  1.  1.  0.  0.  1.  1.  1.  1.  0.  1.\n",
      "  1.  0.  0.  1.  1.  1.  1.  1.  0.  1.  1.  1.  0.  1.  1.  0.  1.  0.\n",
      "  1.  0.  0.  0.  0.  0.  1.  1.  1.  1.  0.  0.  0.  0.  0.  1.  0.  0.\n",
      "  1.  1.  1.  0.  0.  1.  1.  1.  1.  0.  1.  0.  1.  0.  1.  0.  1.  0.\n",
      "  1.  0.  1.  1.  1.  0.  1.  1.  0.  0.  0.  1.  1.  0.  1.  1.  1.  1.\n",
      "  1.  1.  0.  0.  1.  0.  0.  1.  0.  1.  0.  1.  1.  1.  0.  1.  0.  0.\n",
      "  0.  1.  1.  1.  1.  0.  1.  0.  0.  0.  1.  0.  0.  0.  1.  1.  1.  1.\n",
      "  0.  0.  0.  0.  0.  0.  1.  1.  0.  0.  0.  1.  0.  1.  1.  0.  1.  1.\n",
      "  0.  0.  1.  0.  1.  0.  1.  0.  0.  1.  0.  1.  0.  1.  1.  1.  0.  1.\n",
      "  1.  0.  1.  0.  0.  0.  0.  0.  1.  1.  1.  1.  0.  1.  0.  1.  1.  0.\n",
      "  1.  0.  1.  0.  1.  0.  0.  0.  1.  1.  1.  1.  1.  0.  0.  1.  1.  0.\n",
      "  0.  1.  0.  0.  1.  0.  0.  1.  0.  1.  0.  1.  1.  1.  1.  0.  1.  1.\n",
      "  1.  0.  0.  1.  0.  0.  1.  1.  0.  0.  1.  0.  1.  0.  1.  0.  0.  0.\n",
      "  0.  0.  0.  0.  0.  0.  1.  0.  1.  1.  0.  0.  1.  1.  1.  1.  1.  0.\n",
      "  0.  0.  0.  0.  1.  0.  0.  1.  1.  1.  1.  1.  0.  1.  1.  1.  1.  0.\n",
      "  1.  0.  0.  1.  1.  1.  0.  1.  0.  1.  1.  0.  0.  1.  0.  1.  1.  0.\n",
      "  0.  1.  0.  0.  1.  0.  0.  0.  0.  1.  0.  0.  1.  0.  0.  1.  1.  0.\n",
      "  0.  0.  1.  0.  0.  0.  1.  1.  0.  1.  0.  0.  0.  1.  0.  0.  1.  0.\n",
      "  1.  1.  1.  1.  1.  0.  0.  1.  1.  0.  0.  0.  1.  0.  1.  0.  1.  0.\n",
      "  1.  1.  1.  1.  1.  0.  1.  1.  1.  1.  1.  1.  0.  0.  0.  0.  0.  0.\n",
      "  0.  0.  1.  0.  1.  1.  1.  1.  0.  1.  0.  1.  0.  0.  1.  0.  1.  0.\n",
      "  0.  0.  0.  0.  1.  1.  0.  1.  1.  0.  0.  0.  0.  0.  1.  1.  1.  0.\n",
      "  1.  0.  0.  1.  0.  1.  0.  0.  0.  0.  0.  1.  1.  1.  1.  0.  0.  0.\n",
      "  1.  1.  0.  0.  0.  0.  0.  1.  0.  1.  0.  1.  1.  1.  1.  0.  0.  1.\n",
      "  0.  0.  0.  0.  0.  1.  1.  1.  0.  0.  0.  0.  0.  0.  0.  0.  1.  0.\n",
      "  0.  1.  1.  0.  0.  1.  0.  1.  1.  1.  0.  0.  0.  0.  0.  0.  0.  1.\n",
      "  1.  0.  1.  0.  0.  1.  1.  1.  0.  0.  0.  0.  1.  0.  1.  1.  1.  1.\n",
      "  0.  0.  1.  0.  1.  1.  0.  1.  0.  1.  0.  1.  1.  1.  1.  0.  1.  1.\n",
      "  1.  1.  1.  0.  1.  0.  1.  1.  1.  0.  0.  0.  0.  0.  1.  1.  0.  1.\n",
      "  1.  1.  1.  0.  1.  1.  0.  1.  1.  1.  1.  1.  1.  1.  0.  0.  0.  0.\n",
      "  1.  0.  1.  0.  1.  1.  0.  0.  1.  0.  1.  0.  0.  0.  0.  0.  0.  1.\n",
      "  0.  0.  1.  1.  1.  0.  1.  0.  0.  0.  0.  1.  0.  1.  0.  0.  0.  1.\n",
      "  1.  0.  0.  1.  1.  0.  0.  1.  1.  1.  1.  0.  0.  0.  0.  0.  1.  1.\n",
      "  0.  0.  1.  0.  1.  0.  0.  0.  0.  1.]\n",
      "============== correct_ans ==============\n",
      "1.0\n"
     ]
    }
   ],
   "source": [
    "print('=============== predicted ===============')\n",
    "print(predicted)\n",
    "print('============== correct_ans ==============')\n",
    "print(sum(predicted == df_test_target) / len(df_test))"
   ]
  },
  {
   "cell_type": "code",
   "execution_count": 157,
   "metadata": {
    "collapsed": false
   },
   "outputs": [
    {
     "ename": "InvocationException",
     "evalue": "GraphViz's executables not found",
     "output_type": "error",
     "traceback": [
      "\u001b[0;31m---------------------------------------------------------------------------\u001b[0m",
      "\u001b[0;31mInvocationException\u001b[0m                       Traceback (most recent call last)",
      "\u001b[0;32m<ipython-input-157-b2112e94f72e>\u001b[0m in \u001b[0;36m<module>\u001b[0;34m()\u001b[0m\n\u001b[1;32m      6\u001b[0m \u001b[1;33m\u001b[0m\u001b[0m\n\u001b[1;32m      7\u001b[0m \u001b[1;31m# ノートブックに可視化\u001b[0m\u001b[1;33m\u001b[0m\u001b[1;33m\u001b[0m\u001b[0m\n\u001b[0;32m----> 8\u001b[0;31m \u001b[0mImage\u001b[0m\u001b[1;33m(\u001b[0m\u001b[0mgraph\u001b[0m\u001b[1;33m.\u001b[0m\u001b[0mcreate_png\u001b[0m\u001b[1;33m(\u001b[0m\u001b[1;33m)\u001b[0m\u001b[1;33m)\u001b[0m\u001b[1;33m\u001b[0m\u001b[0m\n\u001b[0m",
      "\u001b[0;32mC:\\Anaconda\\lib\\site-packages\\pydotplus\\graphviz.py\u001b[0m in \u001b[0;36m<lambda>\u001b[0;34m(f, prog)\u001b[0m\n\u001b[1;32m   1795\u001b[0m             self.__setattr__(\n\u001b[1;32m   1796\u001b[0m                 \u001b[1;34m'create_'\u001b[0m \u001b[1;33m+\u001b[0m \u001b[0mfrmt\u001b[0m\u001b[1;33m,\u001b[0m\u001b[1;33m\u001b[0m\u001b[0m\n\u001b[0;32m-> 1797\u001b[0;31m                 \u001b[1;32mlambda\u001b[0m \u001b[0mf\u001b[0m\u001b[1;33m=\u001b[0m\u001b[0mfrmt\u001b[0m\u001b[1;33m,\u001b[0m \u001b[0mprog\u001b[0m\u001b[1;33m=\u001b[0m\u001b[0mself\u001b[0m\u001b[1;33m.\u001b[0m\u001b[0mprog\u001b[0m\u001b[1;33m:\u001b[0m \u001b[0mself\u001b[0m\u001b[1;33m.\u001b[0m\u001b[0mcreate\u001b[0m\u001b[1;33m(\u001b[0m\u001b[0mformat\u001b[0m\u001b[1;33m=\u001b[0m\u001b[0mf\u001b[0m\u001b[1;33m,\u001b[0m \u001b[0mprog\u001b[0m\u001b[1;33m=\u001b[0m\u001b[0mprog\u001b[0m\u001b[1;33m)\u001b[0m\u001b[1;33m\u001b[0m\u001b[0m\n\u001b[0m\u001b[1;32m   1798\u001b[0m             )\n\u001b[1;32m   1799\u001b[0m             \u001b[0mf\u001b[0m \u001b[1;33m=\u001b[0m \u001b[0mself\u001b[0m\u001b[1;33m.\u001b[0m\u001b[0m__dict__\u001b[0m\u001b[1;33m[\u001b[0m\u001b[1;34m'create_'\u001b[0m \u001b[1;33m+\u001b[0m \u001b[0mfrmt\u001b[0m\u001b[1;33m]\u001b[0m\u001b[1;33m\u001b[0m\u001b[0m\n",
      "\u001b[0;32mC:\\Anaconda\\lib\\site-packages\\pydotplus\\graphviz.py\u001b[0m in \u001b[0;36mcreate\u001b[0;34m(self, prog, format)\u001b[0m\n\u001b[1;32m   1958\u001b[0m             \u001b[1;32mif\u001b[0m \u001b[0mself\u001b[0m\u001b[1;33m.\u001b[0m\u001b[0mprogs\u001b[0m \u001b[1;32mis\u001b[0m \u001b[1;32mNone\u001b[0m\u001b[1;33m:\u001b[0m\u001b[1;33m\u001b[0m\u001b[0m\n\u001b[1;32m   1959\u001b[0m                 raise InvocationException(\n\u001b[0;32m-> 1960\u001b[0;31m                     'GraphViz\\'s executables not found')\n\u001b[0m\u001b[1;32m   1961\u001b[0m \u001b[1;33m\u001b[0m\u001b[0m\n\u001b[1;32m   1962\u001b[0m         \u001b[1;32mif\u001b[0m \u001b[0mprog\u001b[0m \u001b[1;32mnot\u001b[0m \u001b[1;32min\u001b[0m \u001b[0mself\u001b[0m\u001b[1;33m.\u001b[0m\u001b[0mprogs\u001b[0m\u001b[1;33m:\u001b[0m\u001b[1;33m\u001b[0m\u001b[0m\n",
      "\u001b[0;31mInvocationException\u001b[0m: GraphViz's executables not found"
     ]
    }
   ],
   "source": [
    "from IPython.display import Image\n",
    "\n",
    "dot_data = StringIO()\n",
    "tree.export_graphviz(clf, out_file=dot_data)\n",
    "graph = pydotplus.graph_from_dot_data(dot_data.getvalue())\n",
    "\n",
    "# ノートブックに可視化\n",
    "Image(graph.create_png())"
   ]
  },
  {
   "cell_type": "code",
   "execution_count": null,
   "metadata": {
    "collapsed": true
   },
   "outputs": [],
   "source": []
  },
  {
   "cell_type": "code",
   "execution_count": null,
   "metadata": {
    "collapsed": true
   },
   "outputs": [],
   "source": []
  }
 ],
 "metadata": {
  "kernelspec": {
   "display_name": "Python 3",
   "language": "python",
   "name": "python3"
  },
  "language_info": {
   "codemirror_mode": {
    "name": "ipython",
    "version": 3
   },
   "file_extension": ".py",
   "mimetype": "text/x-python",
   "name": "python",
   "nbconvert_exporter": "python",
   "pygments_lexer": "ipython3",
   "version": "3.6.0"
  }
 },
 "nbformat": 4,
 "nbformat_minor": 2
}
